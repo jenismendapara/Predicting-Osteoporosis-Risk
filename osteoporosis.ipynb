{
 "cells": [
  {
   "cell_type": "code",
   "execution_count": 71,
   "metadata": {},
   "outputs": [],
   "source": [
    "import pandas as pd\n",
    "import numpy as np\n",
    "import matplotlib.pyplot as plt\n",
    "import seaborn as sns\n",
    "from sklearn.model_selection import train_test_split\n",
    "from sklearn.preprocessing import StandardScaler, LabelEncoder\n",
    "from sklearn.ensemble import RandomForestClassifier\n",
    "from sklearn.tree import DecisionTreeClassifier\n",
    "from sklearn.linear_model import LogisticRegression\n",
    "from sklearn.svm import SVC\n",
    "from sklearn.metrics import accuracy_score, precision_score, recall_score, f1_score, classification_report, confusion_matrix\n",
    "import warnings"
   ]
  },
  {
   "cell_type": "code",
   "execution_count": 72,
   "metadata": {},
   "outputs": [],
   "source": [
    "data = pd.read_csv('osteoporosis.csv')"
   ]
  },
  {
   "cell_type": "code",
   "execution_count": 73,
   "metadata": {},
   "outputs": [
    {
     "data": {
      "text/html": [
       "<div>\n",
       "<style scoped>\n",
       "    .dataframe tbody tr th:only-of-type {\n",
       "        vertical-align: middle;\n",
       "    }\n",
       "\n",
       "    .dataframe tbody tr th {\n",
       "        vertical-align: top;\n",
       "    }\n",
       "\n",
       "    .dataframe thead th {\n",
       "        text-align: right;\n",
       "    }\n",
       "</style>\n",
       "<table border=\"1\" class=\"dataframe\">\n",
       "  <thead>\n",
       "    <tr style=\"text-align: right;\">\n",
       "      <th></th>\n",
       "      <th>Id</th>\n",
       "      <th>Age</th>\n",
       "      <th>Osteoporosis</th>\n",
       "    </tr>\n",
       "  </thead>\n",
       "  <tbody>\n",
       "    <tr>\n",
       "      <th>count</th>\n",
       "      <td>1958.000000</td>\n",
       "      <td>1958.000000</td>\n",
       "      <td>1958.000000</td>\n",
       "    </tr>\n",
       "    <tr>\n",
       "      <th>mean</th>\n",
       "      <td>105515.320735</td>\n",
       "      <td>39.101124</td>\n",
       "      <td>0.500000</td>\n",
       "    </tr>\n",
       "    <tr>\n",
       "      <th>std</th>\n",
       "      <td>2589.407806</td>\n",
       "      <td>21.355424</td>\n",
       "      <td>0.500128</td>\n",
       "    </tr>\n",
       "    <tr>\n",
       "      <th>min</th>\n",
       "      <td>101008.000000</td>\n",
       "      <td>18.000000</td>\n",
       "      <td>0.000000</td>\n",
       "    </tr>\n",
       "    <tr>\n",
       "      <th>25%</th>\n",
       "      <td>103348.500000</td>\n",
       "      <td>21.000000</td>\n",
       "      <td>0.000000</td>\n",
       "    </tr>\n",
       "    <tr>\n",
       "      <th>50%</th>\n",
       "      <td>105469.000000</td>\n",
       "      <td>32.000000</td>\n",
       "      <td>0.500000</td>\n",
       "    </tr>\n",
       "    <tr>\n",
       "      <th>75%</th>\n",
       "      <td>107755.000000</td>\n",
       "      <td>53.000000</td>\n",
       "      <td>1.000000</td>\n",
       "    </tr>\n",
       "    <tr>\n",
       "      <th>max</th>\n",
       "      <td>109996.000000</td>\n",
       "      <td>90.000000</td>\n",
       "      <td>1.000000</td>\n",
       "    </tr>\n",
       "  </tbody>\n",
       "</table>\n",
       "</div>"
      ],
      "text/plain": [
       "                  Id          Age  Osteoporosis\n",
       "count    1958.000000  1958.000000   1958.000000\n",
       "mean   105515.320735    39.101124      0.500000\n",
       "std      2589.407806    21.355424      0.500128\n",
       "min    101008.000000    18.000000      0.000000\n",
       "25%    103348.500000    21.000000      0.000000\n",
       "50%    105469.000000    32.000000      0.500000\n",
       "75%    107755.000000    53.000000      1.000000\n",
       "max    109996.000000    90.000000      1.000000"
      ]
     },
     "execution_count": 73,
     "metadata": {},
     "output_type": "execute_result"
    }
   ],
   "source": [
    "data.describe()"
   ]
  },
  {
   "cell_type": "code",
   "execution_count": 74,
   "metadata": {},
   "outputs": [
    {
     "name": "stdout",
     "output_type": "stream",
     "text": [
      "<class 'pandas.core.frame.DataFrame'>\n",
      "RangeIndex: 1958 entries, 0 to 1957\n",
      "Data columns (total 16 columns):\n",
      " #   Column               Non-Null Count  Dtype \n",
      "---  ------               --------------  ----- \n",
      " 0   Id                   1958 non-null   int64 \n",
      " 1   Age                  1958 non-null   int64 \n",
      " 2   Gender               1958 non-null   object\n",
      " 3   Hormonal Changes     1958 non-null   object\n",
      " 4   Family History       1958 non-null   object\n",
      " 5   Race/Ethnicity       1958 non-null   object\n",
      " 6   Body Weight          1958 non-null   object\n",
      " 7   Calcium Intake       1958 non-null   object\n",
      " 8   Vitamin D Intake     1958 non-null   object\n",
      " 9   Physical Activity    1958 non-null   object\n",
      " 10  Smoking              1958 non-null   object\n",
      " 11  Alcohol Consumption  970 non-null    object\n",
      " 12  Medical Conditions   1311 non-null   object\n",
      " 13  Medications          973 non-null    object\n",
      " 14  Prior Fractures      1958 non-null   object\n",
      " 15  Osteoporosis         1958 non-null   int64 \n",
      "dtypes: int64(3), object(13)\n",
      "memory usage: 244.9+ KB\n"
     ]
    }
   ],
   "source": [
    "data.info()"
   ]
  },
  {
   "cell_type": "code",
   "execution_count": 75,
   "metadata": {},
   "outputs": [
    {
     "data": {
      "text/plain": [
       "Id                       0\n",
       "Age                      0\n",
       "Gender                   0\n",
       "Hormonal Changes         0\n",
       "Family History           0\n",
       "Race/Ethnicity           0\n",
       "Body Weight              0\n",
       "Calcium Intake           0\n",
       "Vitamin D Intake         0\n",
       "Physical Activity        0\n",
       "Smoking                  0\n",
       "Alcohol Consumption    988\n",
       "Medical Conditions     647\n",
       "Medications            985\n",
       "Prior Fractures          0\n",
       "Osteoporosis             0\n",
       "dtype: int64"
      ]
     },
     "execution_count": 75,
     "metadata": {},
     "output_type": "execute_result"
    }
   ],
   "source": [
    "data.isnull().sum()"
   ]
  },
  {
   "cell_type": "code",
   "execution_count": 76,
   "metadata": {},
   "outputs": [],
   "source": [
    "categorical_cols = data.select_dtypes(include=['object']).columns\n",
    "le = LabelEncoder()\n",
    "for col in categorical_cols:\n",
    "    data[col] = le.fit_transform(data[col])"
   ]
  },
  {
   "cell_type": "code",
   "execution_count": 77,
   "metadata": {},
   "outputs": [],
   "source": [
    "data['Alcohol Consumption'] = data['Alcohol Consumption'].fillna(data['Alcohol Consumption'].mean())\n",
    "data['Medical Conditions'] = data['Medical Conditions'].fillna(data['Medical Conditions'].mean())\n",
    "data['Medications'] = data['Medications'].fillna(data['Medications'].mean())\n"
   ]
  },
  {
   "cell_type": "code",
   "execution_count": 78,
   "metadata": {},
   "outputs": [],
   "source": [
    "X = data.drop(columns=['Age', 'Osteoporosis', 'Id'])\n",
    "y = data['Osteoporosis']"
   ]
  },
  {
   "cell_type": "code",
   "execution_count": 79,
   "metadata": {},
   "outputs": [
    {
     "data": {
      "text/plain": [
       "Index(['Gender', 'Hormonal Changes', 'Family History', 'Race/Ethnicity',\n",
       "       'Body Weight', 'Calcium Intake', 'Vitamin D Intake',\n",
       "       'Physical Activity', 'Smoking', 'Alcohol Consumption',\n",
       "       'Medical Conditions', 'Medications', 'Prior Fractures'],\n",
       "      dtype='object')"
      ]
     },
     "execution_count": 79,
     "metadata": {},
     "output_type": "execute_result"
    }
   ],
   "source": [
    "X.columns"
   ]
  },
  {
   "cell_type": "code",
   "execution_count": 80,
   "metadata": {},
   "outputs": [],
   "source": [
    "X_train, X_test, y_train, y_test = train_test_split(X, y, test_size=0.2, random_state=42, stratify=y)\n"
   ]
  },
  {
   "cell_type": "code",
   "execution_count": 81,
   "metadata": {},
   "outputs": [],
   "source": [
    "scaler = StandardScaler()\n",
    "X_train = scaler.fit_transform(X_train)\n",
    "X_test = scaler.transform(X_test)"
   ]
  },
  {
   "cell_type": "code",
   "execution_count": 82,
   "metadata": {},
   "outputs": [
    {
     "name": "stdout",
     "output_type": "stream",
     "text": [
      "accuracy score : 0.5\n",
      "Classification Report:\n",
      "               precision    recall  f1-score   support\n",
      "\n",
      "           0       0.50      0.50      0.50       196\n",
      "           1       0.50      0.50      0.50       196\n",
      "\n",
      "    accuracy                           0.50       392\n",
      "   macro avg       0.50      0.50      0.50       392\n",
      "weighted avg       0.50      0.50      0.50       392\n",
      "\n",
      "Confusion Matrix:\n",
      " [[98 98]\n",
      " [98 98]]\n"
     ]
    }
   ],
   "source": [
    "best_model = RandomForestClassifier(class_weight=\"balanced\",random_state=42,n_estimators = 100,criterion = 'entropy')\n",
    "best_model.fit(X_train, y_train)\n",
    "\n",
    "\n",
    "y_pred = best_model.predict(X_test)  \n",
    "y_proba = best_model.predict_proba(X_test)[:, 1]  \n",
    "\n",
    "print(\"accuracy score :\",accuracy_score(y_test,y_pred))\n",
    "\n",
    "print(\"Classification Report:\\n\", classification_report(y_test, y_pred))\n",
    "print(\"Confusion Matrix:\\n\", confusion_matrix(y_test, y_pred))\n"
   ]
  },
  {
   "cell_type": "code",
   "execution_count": 83,
   "metadata": {},
   "outputs": [
    {
     "name": "stdout",
     "output_type": "stream",
     "text": [
      "Classification Report:\n",
      "               precision    recall  f1-score   support\n",
      "\n",
      "           0       0.54      0.53      0.54       196\n",
      "           1       0.54      0.55      0.55       196\n",
      "\n",
      "    accuracy                           0.54       392\n",
      "   macro avg       0.54      0.54      0.54       392\n",
      "weighted avg       0.54      0.54      0.54       392\n",
      "\n",
      "Confusion Matrix:\n",
      " [[104  92]\n",
      " [ 88 108]]\n",
      "accuracy score : 0.5408163265306123\n"
     ]
    }
   ],
   "source": [
    "model1 = DecisionTreeClassifier(random_state=42)\n",
    "model1.fit(X_train, y_train)\n",
    "\n",
    "\n",
    "y_pred = model1.predict(X_test)  \n",
    "y_proba = model1.predict_proba(X_test)[:, 1]  \n",
    "\n",
    "\n",
    "print(\"Classification Report:\\n\", classification_report(y_test, y_pred))\n",
    "print(\"Confusion Matrix:\\n\", confusion_matrix(y_test, y_pred))\n",
    "print(\"accuracy score :\",accuracy_score(y_test,y_pred))\n",
    "\n"
   ]
  },
  {
   "cell_type": "code",
   "execution_count": 84,
   "metadata": {},
   "outputs": [
    {
     "name": "stdout",
     "output_type": "stream",
     "text": [
      "accuracy score : 0.5051020408163265\n",
      "Classification Report:\n",
      "               precision    recall  f1-score   support\n",
      "\n",
      "           0       0.51      0.45      0.48       196\n",
      "           1       0.50      0.56      0.53       196\n",
      "\n",
      "    accuracy                           0.51       392\n",
      "   macro avg       0.51      0.51      0.50       392\n",
      "weighted avg       0.51      0.51      0.50       392\n",
      "\n",
      "Confusion Matrix:\n",
      " [[ 89 107]\n",
      " [ 87 109]]\n"
     ]
    }
   ],
   "source": [
    "model2 = LogisticRegression()\n",
    "model2.fit(X_train, y_train)\n",
    "\n",
    "y_pred = model2.predict(X_test)  \n",
    "y_proba = model2.predict_proba(X_test)[:, 1]  \n",
    "\n",
    "print(\"accuracy score :\",accuracy_score(y_test,y_pred))\n",
    "print(\"Classification Report:\\n\", classification_report(y_test, y_pred))\n",
    "print(\"Confusion Matrix:\\n\", confusion_matrix(y_test, y_pred))\n"
   ]
  },
  {
   "cell_type": "code",
   "execution_count": 85,
   "metadata": {},
   "outputs": [
    {
     "name": "stdout",
     "output_type": "stream",
     "text": [
      "Classification Report:\n",
      "               precision    recall  f1-score   support\n",
      "\n",
      "           0       0.50      0.49      0.50       196\n",
      "           1       0.50      0.51      0.50       196\n",
      "\n",
      "    accuracy                           0.50       392\n",
      "   macro avg       0.50      0.50      0.50       392\n",
      "weighted avg       0.50      0.50      0.50       392\n",
      "\n",
      "Confusion Matrix:\n",
      " [[97 99]\n",
      " [97 99]]\n",
      "accuracy score : 0.5\n"
     ]
    }
   ],
   "source": [
    "model3 = SVC(random_state=42)\n",
    "model3.fit(X_train, y_train)\n",
    "\n",
    "\n",
    "y_pred = model3.predict(X_test)  \n",
    "# y_proba = model3.predict_proba(X_test)[:, 1]  \n",
    "\n",
    "\n",
    "print(\"Classification Report:\\n\", classification_report(y_test, y_pred))\n",
    "print(\"Confusion Matrix:\\n\", confusion_matrix(y_test, y_pred))\n",
    "print(\"accuracy score :\",accuracy_score(y_test,y_pred))\n",
    "\n"
   ]
  },
  {
   "cell_type": "code",
   "execution_count": 86,
   "metadata": {},
   "outputs": [
    {
     "data": {
      "image/png": "[encoded data removed]",
      "text/plain": [
       "<Figure size 600x400 with 2 Axes>"
      ]
     },
     "metadata": {},
     "output_type": "display_data"
    }
   ],
   "source": [
    "cm_rf = confusion_matrix(y_test, y_pred)\n",
    "plt.figure(figsize=(6, 4))\n",
    "sns.heatmap(cm_rf, annot=True, fmt='d', cmap='Blues', xticklabels=['No', 'Yes'], yticklabels=['No', 'Yes'])\n",
    "plt.title(\"Random Forest Confusion Matrix\")\n",
    "plt.xlabel(\"Predicted\")\n",
    "plt.ylabel(\"Actual\")\n",
    "plt.show()"
   ]
  },
  {
   "cell_type": "code",
   "execution_count": 87,
   "metadata": {},
   "outputs": [
    {
     "name": "stdout",
     "output_type": "stream",
     "text": [
      "Feature Importance for Random Forest Classifier:\n",
      "                Feature  Importance\n",
      "3        Race/Ethnicity    0.127200\n",
      "10   Medical Conditions    0.117547\n",
      "9   Alcohol Consumption    0.073519\n",
      "11          Medications    0.071869\n",
      "12      Prior Fractures    0.071801\n",
      "2        Family History    0.071641\n",
      "0                Gender    0.070400\n",
      "8               Smoking    0.069651\n",
      "1      Hormonal Changes    0.068498\n",
      "4           Body Weight    0.067131\n",
      "5        Calcium Intake    0.066808\n",
      "7     Physical Activity    0.062238\n",
      "6      Vitamin D Intake    0.061697\n"
     ]
    },
    {
     "name": "stderr",
     "output_type": "stream",
     "text": [
      "C:\\Users\\Jenish\\AppData\\Local\\Temp\\ipykernel_17616\\3241084822.py:17: FutureWarning: \n",
      "\n",
      "Passing `palette` without assigning `hue` is deprecated and will be removed in v0.14.0. Assign the `y` variable to `hue` and set `legend=False` for the same effect.\n",
      "\n",
      "  sns.barplot(x='Importance', y='Feature', data=feature_importance_df, palette='viridis')\n"
     ]
    },
    {
     "data": {
      "image/png": "[encoded data removed]",
      "text/plain": [
       "<Figure size 1000x600 with 1 Axes>"
      ]
     },
     "metadata": {},
     "output_type": "display_data"
    }
   ],
   "source": [
    "# Extracting feature importance\n",
    "feature_importances = best_model.feature_importances_\n",
    "features = X.columns\n",
    "\n",
    "# Creating a DataFrame for feature importance\n",
    "feature_importance_df = pd.DataFrame({\n",
    "    'Feature': features,\n",
    "    'Importance': feature_importances\n",
    "}).sort_values(by='Importance', ascending=False)\n",
    "\n",
    "# Display feature importance\n",
    "print(\"Feature Importance for Random Forest Classifier:\")\n",
    "print(feature_importance_df)\n",
    "\n",
    "# Visualizing feature importance\n",
    "plt.figure(figsize=(10, 6))\n",
    "sns.barplot(x='Importance', y='Feature', data=feature_importance_df, palette='viridis')\n",
    "plt.title(\"Feature Importance - Random Forest Classifier\")\n",
    "plt.xlabel(\"Importance\")\n",
    "plt.ylabel(\"Feature\")\n",
    "plt.show()\n"
   ]
  },
  {
   "cell_type": "code",
   "execution_count": 88,
   "metadata": {},
   "outputs": [
    {
     "data": {
      "text/plain": [
       "['scaler.joblib']"
      ]
     },
     "execution_count": 88,
     "metadata": {},
     "output_type": "execute_result"
    }
   ],
   "source": [
    "import joblib\n",
    "joblib.dump(best_model, 'best_model.joblib')\n",
    "joblib.dump(scaler,'scaler.joblib')"
   ]
  },
  {
   "cell_type": "code",
   "execution_count": null,
   "metadata": {},
   "outputs": [],
   "source": []
  }
 ],
 "metadata": {
  "kernelspec": {
   "display_name": "bia",
   "language": "python",
   "name": "python3"
  },
  "language_info": {
   "codemirror_mode": {
    "name": "ipython",
    "version": 3
   },
   "file_extension": ".py",
   "mimetype": "text/x-python",
   "name": "python",
   "nbconvert_exporter": "python",
   "pygments_lexer": "ipython3",
   "version": "3.10.14"
  }
 },
 "nbformat": 4,
 "nbformat_minor": 2
}
