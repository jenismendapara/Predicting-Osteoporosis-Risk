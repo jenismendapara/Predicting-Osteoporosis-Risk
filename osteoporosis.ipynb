{
 "cells": [
  {
   "cell_type": "markdown",
   "metadata": {},
   "source": [
    "# Importing Libraries"
   ]
  },
  {
   "cell_type": "code",
   "execution_count": 2,
   "metadata": {},
   "outputs": [],
   "source": [
    "import pandas as pd\n",
    "import numpy as np\n",
    "import matplotlib.pyplot as plt\n",
    "import seaborn as sns\n",
    "from sklearn.model_selection import train_test_split\n",
    "from sklearn.preprocessing import StandardScaler, LabelEncoder\n",
    "from sklearn.ensemble import RandomForestClassifier\n",
    "from sklearn.tree import DecisionTreeClassifier\n",
    "from sklearn.linear_model import LogisticRegression\n",
    "from sklearn.svm import SVC\n",
    "from sklearn.metrics import accuracy_score, precision_score, recall_score, f1_score, classification_report, confusion_matrix\n",
    "import warnings"
   ]
  },
  {
   "cell_type": "markdown",
   "metadata": {},
   "source": [
    "# Load and Explore Data"
   ]
  },
  {
   "cell_type": "code",
   "execution_count": 3,
   "metadata": {},
   "outputs": [],
   "source": [
    "data = pd.read_csv('osteoporosis.csv')"
   ]
  },
  {
   "cell_type": "code",
   "execution_count": 4,
   "metadata": {},
   "outputs": [
    {
     "data": {
      "text/html": [
       "<div>\n",
       "<style scoped>\n",
       "    .dataframe tbody tr th:only-of-type {\n",
       "        vertical-align: middle;\n",
       "    }\n",
       "\n",
       "    .dataframe tbody tr th {\n",
       "        vertical-align: top;\n",
       "    }\n",
       "\n",
       "    .dataframe thead th {\n",
       "        text-align: right;\n",
       "    }\n",
       "</style>\n",
       "<table border=\"1\" class=\"dataframe\">\n",
       "  <thead>\n",
       "    <tr style=\"text-align: right;\">\n",
       "      <th></th>\n",
       "      <th>Id</th>\n",
       "      <th>Age</th>\n",
       "      <th>Osteoporosis</th>\n",
       "    </tr>\n",
       "  </thead>\n",
       "  <tbody>\n",
       "    <tr>\n",
       "      <th>count</th>\n",
       "      <td>1958.000000</td>\n",
       "      <td>1958.000000</td>\n",
       "      <td>1958.000000</td>\n",
       "    </tr>\n",
       "    <tr>\n",
       "      <th>mean</th>\n",
       "      <td>105515.320735</td>\n",
       "      <td>39.101124</td>\n",
       "      <td>0.500000</td>\n",
       "    </tr>\n",
       "    <tr>\n",
       "      <th>std</th>\n",
       "      <td>2589.407806</td>\n",
       "      <td>21.355424</td>\n",
       "      <td>0.500128</td>\n",
       "    </tr>\n",
       "    <tr>\n",
       "      <th>min</th>\n",
       "      <td>101008.000000</td>\n",
       "      <td>18.000000</td>\n",
       "      <td>0.000000</td>\n",
       "    </tr>\n",
       "    <tr>\n",
       "      <th>25%</th>\n",
       "      <td>103348.500000</td>\n",
       "      <td>21.000000</td>\n",
       "      <td>0.000000</td>\n",
       "    </tr>\n",
       "    <tr>\n",
       "      <th>50%</th>\n",
       "      <td>105469.000000</td>\n",
       "      <td>32.000000</td>\n",
       "      <td>0.500000</td>\n",
       "    </tr>\n",
       "    <tr>\n",
       "      <th>75%</th>\n",
       "      <td>107755.000000</td>\n",
       "      <td>53.000000</td>\n",
       "      <td>1.000000</td>\n",
       "    </tr>\n",
       "    <tr>\n",
       "      <th>max</th>\n",
       "      <td>109996.000000</td>\n",
       "      <td>90.000000</td>\n",
       "      <td>1.000000</td>\n",
       "    </tr>\n",
       "  </tbody>\n",
       "</table>\n",
       "</div>"
      ],
      "text/plain": [
       "                  Id          Age  Osteoporosis\n",
       "count    1958.000000  1958.000000   1958.000000\n",
       "mean   105515.320735    39.101124      0.500000\n",
       "std      2589.407806    21.355424      0.500128\n",
       "min    101008.000000    18.000000      0.000000\n",
       "25%    103348.500000    21.000000      0.000000\n",
       "50%    105469.000000    32.000000      0.500000\n",
       "75%    107755.000000    53.000000      1.000000\n",
       "max    109996.000000    90.000000      1.000000"
      ]
     },
     "execution_count": 4,
     "metadata": {},
     "output_type": "execute_result"
    }
   ],
   "source": [
    "data.describe()"
   ]
  },
  {
   "cell_type": "code",
   "execution_count": 5,
   "metadata": {},
   "outputs": [
    {
     "name": "stdout",
     "output_type": "stream",
     "text": [
      "<class 'pandas.core.frame.DataFrame'>\n",
      "RangeIndex: 1958 entries, 0 to 1957\n",
      "Data columns (total 16 columns):\n",
      " #   Column               Non-Null Count  Dtype \n",
      "---  ------               --------------  ----- \n",
      " 0   Id                   1958 non-null   int64 \n",
      " 1   Age                  1958 non-null   int64 \n",
      " 2   Gender               1958 non-null   object\n",
      " 3   Hormonal Changes     1958 non-null   object\n",
      " 4   Family History       1958 non-null   object\n",
      " 5   Race/Ethnicity       1958 non-null   object\n",
      " 6   Body Weight          1958 non-null   object\n",
      " 7   Calcium Intake       1958 non-null   object\n",
      " 8   Vitamin D Intake     1958 non-null   object\n",
      " 9   Physical Activity    1958 non-null   object\n",
      " 10  Smoking              1958 non-null   object\n",
      " 11  Alcohol Consumption  970 non-null    object\n",
      " 12  Medical Conditions   1311 non-null   object\n",
      " 13  Medications          973 non-null    object\n",
      " 14  Prior Fractures      1958 non-null   object\n",
      " 15  Osteoporosis         1958 non-null   int64 \n",
      "dtypes: int64(3), object(13)\n",
      "memory usage: 244.9+ KB\n"
     ]
    }
   ],
   "source": [
    "data.info()"
   ]
  },
  {
   "cell_type": "code",
   "execution_count": 6,
   "metadata": {},
   "outputs": [
    {
     "data": {
      "text/plain": [
       "Id                       0\n",
       "Age                      0\n",
       "Gender                   0\n",
       "Hormonal Changes         0\n",
       "Family History           0\n",
       "Race/Ethnicity           0\n",
       "Body Weight              0\n",
       "Calcium Intake           0\n",
       "Vitamin D Intake         0\n",
       "Physical Activity        0\n",
       "Smoking                  0\n",
       "Alcohol Consumption    988\n",
       "Medical Conditions     647\n",
       "Medications            985\n",
       "Prior Fractures          0\n",
       "Osteoporosis             0\n",
       "dtype: int64"
      ]
     },
     "execution_count": 6,
     "metadata": {},
     "output_type": "execute_result"
    }
   ],
   "source": [
    "data.isnull().sum()"
   ]
  },
  {
   "cell_type": "markdown",
   "metadata": {},
   "source": [
    "# Label Encoding for Categorical Features"
   ]
  },
  {
   "cell_type": "code",
   "execution_count": 7,
   "metadata": {},
   "outputs": [],
   "source": [
    "categorical_cols = data.select_dtypes(include=['object']).columns\n",
    "le = LabelEncoder()\n",
    "for col in categorical_cols:\n",
    "    data[col] = le.fit_transform(data[col])"
   ]
  },
  {
   "cell_type": "markdown",
   "metadata": {},
   "source": [
    "# Impute Missing Values with Mean"
   ]
  },
  {
   "cell_type": "code",
   "execution_count": 8,
   "metadata": {},
   "outputs": [],
   "source": [
    "data['Alcohol Consumption'] = data['Alcohol Consumption'].fillna(data['Alcohol Consumption'].mean())\n",
    "data['Medical Conditions'] = data['Medical Conditions'].fillna(data['Medical Conditions'].mean())\n",
    "data['Medications'] = data['Medications'].fillna(data['Medications'].mean())\n"
   ]
  },
  {
   "cell_type": "markdown",
   "metadata": {},
   "source": [
    "# Splitting Features and Target\n"
   ]
  },
  {
   "cell_type": "code",
   "execution_count": 9,
   "metadata": {},
   "outputs": [],
   "source": [
    "X = data.drop(columns=['Osteoporosis', 'Id'])\n",
    "y = data['Osteoporosis']"
   ]
  },
  {
   "cell_type": "code",
   "execution_count": 10,
   "metadata": {},
   "outputs": [
    {
     "data": {
      "text/plain": [
       "Index(['Age', 'Gender', 'Hormonal Changes', 'Family History', 'Race/Ethnicity',\n",
       "       'Body Weight', 'Calcium Intake', 'Vitamin D Intake',\n",
       "       'Physical Activity', 'Smoking', 'Alcohol Consumption',\n",
       "       'Medical Conditions', 'Medications', 'Prior Fractures'],\n",
       "      dtype='object')"
      ]
     },
     "execution_count": 10,
     "metadata": {},
     "output_type": "execute_result"
    }
   ],
   "source": [
    "X.columns"
   ]
  },
  {
   "cell_type": "markdown",
   "metadata": {},
   "source": [
    "# Train-Test Split\n"
   ]
  },
  {
   "cell_type": "code",
   "execution_count": 11,
   "metadata": {},
   "outputs": [],
   "source": [
    "X_train, X_test, y_train, y_test = train_test_split(X, y, test_size=0.2, random_state=42, stratify=y)\n"
   ]
  },
  {
   "cell_type": "markdown",
   "metadata": {},
   "source": [
    "# Scaling Features\n"
   ]
  },
  {
   "cell_type": "code",
   "execution_count": 12,
   "metadata": {},
   "outputs": [],
   "source": [
    "scaler = StandardScaler()\n",
    "X_train = scaler.fit_transform(X_train)\n",
    "X_test = scaler.transform(X_test)"
   ]
  },
  {
   "cell_type": "markdown",
   "metadata": {},
   "source": [
    "# Random Forest Classifier\n"
   ]
  },
  {
   "cell_type": "code",
   "execution_count": 13,
   "metadata": {},
   "outputs": [
    {
     "name": "stdout",
     "output_type": "stream",
     "text": [
      "accuracy score : 0.8367346938775511\n",
      "Classification Report:\n",
      "               precision    recall  f1-score   support\n",
      "\n",
      "           0       0.77      0.96      0.86       196\n",
      "           1       0.95      0.71      0.81       196\n",
      "\n",
      "    accuracy                           0.84       392\n",
      "   macro avg       0.86      0.84      0.83       392\n",
      "weighted avg       0.86      0.84      0.83       392\n",
      "\n",
      "Confusion Matrix:\n",
      " [[189   7]\n",
      " [ 57 139]]\n"
     ]
    }
   ],
   "source": [
    "best_model = RandomForestClassifier(class_weight=\"balanced\",random_state=42,n_estimators = 100,criterion = 'entropy')\n",
    "best_model.fit(X_train, y_train)\n",
    "\n",
    "\n",
    "y_pred = best_model.predict(X_test)  \n",
    "y_proba = best_model.predict_proba(X_test)[:, 1]  \n",
    "\n",
    "print(\"accuracy score :\",accuracy_score(y_test,y_pred))\n",
    "\n",
    "print(\"Classification Report:\\n\", classification_report(y_test, y_pred))\n",
    "print(\"Confusion Matrix:\\n\", confusion_matrix(y_test, y_pred))\n"
   ]
  },
  {
   "cell_type": "markdown",
   "metadata": {},
   "source": [
    "# Decision Tree Classifier\n"
   ]
  },
  {
   "cell_type": "code",
   "execution_count": 14,
   "metadata": {},
   "outputs": [
    {
     "name": "stdout",
     "output_type": "stream",
     "text": [
      "Classification Report:\n",
      "               precision    recall  f1-score   support\n",
      "\n",
      "           0       0.81      0.80      0.80       196\n",
      "           1       0.80      0.82      0.81       196\n",
      "\n",
      "    accuracy                           0.81       392\n",
      "   macro avg       0.81      0.81      0.81       392\n",
      "weighted avg       0.81      0.81      0.81       392\n",
      "\n",
      "Confusion Matrix:\n",
      " [[156  40]\n",
      " [ 36 160]]\n",
      "accuracy score : 0.8061224489795918\n"
     ]
    }
   ],
   "source": [
    "model1 = DecisionTreeClassifier(random_state=42)\n",
    "model1.fit(X_train, y_train)\n",
    "\n",
    "\n",
    "y_pred = model1.predict(X_test)  \n",
    "y_proba = model1.predict_proba(X_test)[:, 1]  \n",
    "\n",
    "\n",
    "print(\"Classification Report:\\n\", classification_report(y_test, y_pred))\n",
    "print(\"Confusion Matrix:\\n\", confusion_matrix(y_test, y_pred))\n",
    "print(\"accuracy score :\",accuracy_score(y_test,y_pred))\n",
    "\n"
   ]
  },
  {
   "cell_type": "markdown",
   "metadata": {},
   "source": [
    "# Logistic Regression\n"
   ]
  },
  {
   "cell_type": "code",
   "execution_count": 15,
   "metadata": {},
   "outputs": [
    {
     "name": "stdout",
     "output_type": "stream",
     "text": [
      "accuracy score : 0.8010204081632653\n",
      "Classification Report:\n",
      "               precision    recall  f1-score   support\n",
      "\n",
      "           0       0.76      0.88      0.82       196\n",
      "           1       0.86      0.72      0.78       196\n",
      "\n",
      "    accuracy                           0.80       392\n",
      "   macro avg       0.81      0.80      0.80       392\n",
      "weighted avg       0.81      0.80      0.80       392\n",
      "\n",
      "Confusion Matrix:\n",
      " [[172  24]\n",
      " [ 54 142]]\n"
     ]
    }
   ],
   "source": [
    "model2 = LogisticRegression()\n",
    "model2.fit(X_train, y_train)\n",
    "\n",
    "y_pred = model2.predict(X_test)  \n",
    "y_proba = model2.predict_proba(X_test)[:, 1]  \n",
    "\n",
    "print(\"accuracy score :\",accuracy_score(y_test,y_pred))\n",
    "print(\"Classification Report:\\n\", classification_report(y_test, y_pred))\n",
    "print(\"Confusion Matrix:\\n\", confusion_matrix(y_test, y_pred))\n"
   ]
  },
  {
   "cell_type": "markdown",
   "metadata": {},
   "source": [
    "# Support Vector Machine Classifier\n"
   ]
  },
  {
   "cell_type": "code",
   "execution_count": 16,
   "metadata": {},
   "outputs": [
    {
     "name": "stdout",
     "output_type": "stream",
     "text": [
      "Classification Report:\n",
      "               precision    recall  f1-score   support\n",
      "\n",
      "           0       0.75      0.95      0.84       196\n",
      "           1       0.94      0.68      0.79       196\n",
      "\n",
      "    accuracy                           0.82       392\n",
      "   macro avg       0.84      0.82      0.82       392\n",
      "weighted avg       0.84      0.82      0.82       392\n",
      "\n",
      "Confusion Matrix:\n",
      " [[187   9]\n",
      " [ 62 134]]\n",
      "accuracy score : 0.8188775510204082\n"
     ]
    }
   ],
   "source": [
    "model3 = SVC(random_state=42)\n",
    "model3.fit(X_train, y_train)\n",
    "\n",
    "\n",
    "y_pred = model3.predict(X_test)  \n",
    "# y_proba = model3.predict_proba(X_test)[:, 1]  \n",
    "\n",
    "\n",
    "print(\"Classification Report:\\n\", classification_report(y_test, y_pred))\n",
    "print(\"Confusion Matrix:\\n\", confusion_matrix(y_test, y_pred))\n",
    "print(\"accuracy score :\",accuracy_score(y_test,y_pred))\n",
    "\n"
   ]
  },
  {
   "cell_type": "markdown",
   "metadata": {},
   "source": [
    "# Plot Confusion Matrix for Random Forest Classifier\n"
   ]
  },
  {
   "cell_type": "code",
   "execution_count": 17,
   "metadata": {},
   "outputs": [
    {
     "data": {
      "image/png": "[encoded data removed]",
      "text/plain": [
       "<Figure size 600x400 with 2 Axes>"
      ]
     },
     "metadata": {},
     "output_type": "display_data"
    }
   ],
   "source": [
    "# Train the Random Forest Classifier\n",
    "best_model = RandomForestClassifier(class_weight=\"balanced\", random_state=42, n_estimators=100, criterion='entropy')\n",
    "best_model.fit(X_train, y_train)\n",
    "\n",
    "# Predictions and probability\n",
    "y_pred = best_model.predict(X_test)\n",
    "y_proba = best_model.predict_proba(X_test)[:, 1]\n",
    "\n",
    "# Confusion Matrix\n",
    "cm = confusion_matrix(y_test, y_pred)\n",
    "\n",
    "# Plot Confusion Matrix\n",
    "plt.figure(figsize=(6, 4))\n",
    "sns.heatmap(cm, annot=True, fmt='d', cmap='Blues', xticklabels=['No Risk', 'Risk'], yticklabels=['No Risk', 'Risk'])\n",
    "plt.xlabel('Predicted')\n",
    "plt.ylabel('Actual')\n",
    "plt.title('Confusion Matrix - Random Forest')\n",
    "plt.show()\n"
   ]
  },
  {
   "cell_type": "markdown",
   "metadata": {},
   "source": [
    "# Feature Importance - Random Forest Classifier\n"
   ]
  },
  {
   "cell_type": "code",
   "execution_count": 18,
   "metadata": {},
   "outputs": [
    {
     "name": "stdout",
     "output_type": "stream",
     "text": [
      "Feature Importance for Random Forest Classifier:\n",
      "                Feature  Importance\n",
      "0                   Age    0.610672\n",
      "4        Race/Ethnicity    0.046396\n",
      "11   Medical Conditions    0.045113\n",
      "12          Medications    0.028740\n",
      "10  Alcohol Consumption    0.028625\n",
      "13      Prior Fractures    0.028249\n",
      "9               Smoking    0.027728\n",
      "3        Family History    0.027703\n",
      "2      Hormonal Changes    0.027364\n",
      "7      Vitamin D Intake    0.026725\n",
      "1                Gender    0.026567\n",
      "6        Calcium Intake    0.025831\n",
      "8     Physical Activity    0.025238\n",
      "5           Body Weight    0.025049\n"
     ]
    },
    {
     "name": "stderr",
     "output_type": "stream",
     "text": [
      "C:\\Users\\Jenish\\AppData\\Local\\Temp\\ipykernel_23144\\2896585687.py:16: FutureWarning: \n",
      "\n",
      "Passing `palette` without assigning `hue` is deprecated and will be removed in v0.14.0. Assign the `y` variable to `hue` and set `legend=False` for the same effect.\n",
      "\n",
      "  sns.barplot(x='Importance', y='Feature', data=feature_importance_df, palette='viridis')\n"
     ]
    },
    {
     "data": {
      "image/png": "[encoded data removed]",
      "text/plain": [
       "<Figure size 1000x600 with 1 Axes>"
      ]
     },
     "metadata": {},
     "output_type": "display_data"
    }
   ],
   "source": [
    "feature_importances = best_model.feature_importances_\n",
    "features = X.columns\n",
    "\n",
    "# Creating a DataFrame for feature importance\n",
    "feature_importance_df = pd.DataFrame({\n",
    "    'Feature': features,\n",
    "    'Importance': feature_importances\n",
    "}).sort_values(by='Importance', ascending=False)\n",
    "\n",
    "# Display feature importance\n",
    "print(\"Feature Importance for Random Forest Classifier:\")\n",
    "print(feature_importance_df)\n",
    "\n",
    "# Visualizing feature importance\n",
    "plt.figure(figsize=(10, 6))\n",
    "sns.barplot(x='Importance', y='Feature', data=feature_importance_df, palette='viridis')\n",
    "plt.title(\"Feature Importance - Random Forest Classifier\")\n",
    "plt.xlabel(\"Importance\")\n",
    "plt.ylabel(\"Feature\")\n",
    "plt.show()\n"
   ]
  },
  {
   "cell_type": "code",
   "execution_count": 19,
   "metadata": {},
   "outputs": [
    {
     "data": {
      "text/plain": [
       "['scaler.joblib']"
      ]
     },
     "execution_count": 19,
     "metadata": {},
     "output_type": "execute_result"
    }
   ],
   "source": [
    "import joblib\n",
    "joblib.dump(best_model, 'best_model.joblib')\n",
    "joblib.dump(scaler,'scaler.joblib')"
   ]
  },
  {
   "cell_type": "code",
   "execution_count": null,
   "metadata": {},
   "outputs": [],
   "source": []
  }
 ],
 "metadata": {
  "kernelspec": {
   "display_name": "bia",
   "language": "python",
   "name": "python3"
  },
  "language_info": {
   "codemirror_mode": {
    "name": "ipython",
    "version": 3
   },
   "file_extension": ".py",
   "mimetype": "text/x-python",
   "name": "python",
   "nbconvert_exporter": "python",
   "pygments_lexer": "ipython3",
   "version": "3.10.14"
  }
 },
 "nbformat": 4,
 "nbformat_minor": 2
}
